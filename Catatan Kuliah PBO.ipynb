{
 "cells": [
  {
   "cell_type": "markdown",
   "metadata": {},
   "source": [
    "# CLASS VS OBJECT"
   ]
  },
  {
   "cell_type": "markdown",
   "metadata": {},
   "source": [
    "INTRODUCTION OF CLASS"
   ]
  },
  {
   "cell_type": "markdown",
   "metadata": {},
   "source": [
    "ILUSTRASI CLASS & OBJEK PERBEDAAN ATRIBUT DAN METHOD"
   ]
  },
  {
   "cell_type": "markdown",
   "metadata": {},
   "source": [
    "<img src="gambar/h.png">"
   ]
  },
  {
   "cell_type": "markdown",
   "metadata": {},
   "source": [
    "ILUSTRASI\n",
    "<img src="gambar/a.png">"
   ]
  },
  {
   "cell_type": "markdown",
   "metadata": {},
   "source": [
    "keyword class diikuti dengan nama class yang kita inginkan. Lebih baik digunakan kata yang diawali huruf kapital. constructor menggunakan method bawaan Python yang bernama init. Metode init() adalah metode konstruktor, yaitu metode khusus yang digunakan Python untuk menginisialisasi pembuatan objek dari kelas tersebut. Setiap method harus memiliki parameter self yang artinya method tersebut dimiliki dan terdaftar ke class tersebut untuk membedakan dari method atau fungsi yang ada di luar class."
   ]
  },
  {
   "cell_type": "markdown",
   "metadata": {},
   "source": [
    "Mengakses Method Objek Dengan Menggunakan Opeator (.)"
   ]
  },
  {
   "cell_type": "code",
   "execution_count": 32,
   "metadata": {},
   "outputs": [
    {
     "name": "stdout",
     "output_type": "stream",
     "text": [
      "4\n",
      "Luas 16\n",
      "volume 64\n",
      "Luas_Permukaan 96\n"
     ]
    }
   ],
   "source": [
    "class kubus:\n",
    "    def __init__(self,s):\n",
    "        self.sisi = s\n",
    "    def tampilkansisi(self):\n",
    "        print(self.sisi)\n",
    "    def luas(self):\n",
    "        print(\"Luas\",self.sisi**2)\n",
    "    def volume(self):\n",
    "        print(\"volume\",self.sisi**3)\n",
    "    def luas_permukaan(self):\n",
    "        print(\"Luas_Permukaan\",self.sisi**2*6)\n",
    "kubus1 = kubus(4)\n",
    "kubus1.tampilkansisi()\n",
    "kubus1.luas()\n",
    "kubus1.volume()\n",
    "kubus1.luas_permukaan()"
   ]
  },
  {
   "cell_type": "markdown",
   "metadata": {},
   "source": [
    "Contoh Program menggunakan class dan objek untuk menghitung umur"
   ]
  },
  {
   "cell_type": "code",
   "execution_count": 2,
   "metadata": {},
   "outputs": [
    {
     "name": "stdout",
     "output_type": "stream",
     "text": [
      "Viki , admin dan 150000\n",
      "umur: 19\n"
     ]
    }
   ],
   "source": [
    "from datetime import datetime\n",
    "sekarang = datetime.now()\n",
    "tahun = sekarang.year\n",
    "\n",
    "class pegawai:\n",
    "    def __init__(self,n,j,g,lahir):\n",
    "        self.nama = n\n",
    "        self.jabatan = j\n",
    "        self.gaji = g\n",
    "        self.tahun_lahir = lahir\n",
    "\n",
    "    def tampilkan(self):\n",
    "        print(self.nama,\",\",self.jabatan,\"dan\",self.gaji*30)\n",
    "    def tampilkanumur(self):\n",
    "        print(\"umur:\", tahun-self.tahun_lahir)\n",
    "        \n",
    "        \n",
    "p1 = pegawai(\"Viki\",\"admin\",5000,2000)\n",
    "p1.tampilkan()\n",
    "p1.tampilkanumur()"
   ]
  },
  {
   "cell_type": "code",
   "execution_count": 36,
   "metadata": {},
   "outputs": [
    {
     "name": "stdout",
     "output_type": "stream",
     "text": [
      "umur 19\n"
     ]
    }
   ],
   "source": [
    "from  datetime import datetime\n",
    "sekarang = datetime.now()\n",
    "tahun = 2019\n",
    "class Mahasiswa:\n",
    "    def __init__(self,a,b,c):\n",
    "        self.nama = a\n",
    "        self.prodi = b\n",
    "        self.tahun_lahir = c\n",
    "    def tampilkanumur(self):\n",
    "        print(\"umur\", tahun-self.tahun_lahir)\n",
    "    \n",
    "M1 = Mahasiswa (\"VIKI WAHYUDI\",\"SISTEM INFORMASI\",2000)\n",
    "M1.tampilkanumur()"
   ]
  },
  {
   "cell_type": "markdown",
   "metadata": {},
   "source": [
    "Contoh Program menggunakan class dan objek untuk mengecek kelayakan mendapat beasiswa"
   ]
  },
  {
   "cell_type": "markdown",
   "metadata": {},
   "source": [
    "class mahasiswa:\n",
    "    def __init__(self,a,b,c):\n",
    "        self.nama = a\n",
    "        self.nim = b\n",
    "        self.ipk = c\n",
    "    def cek_layak(self):\n",
    "        if (self.ipk<3):\n",
    "            print(\"tidak layak beasiswa\")\n",
    "        else:\n",
    "            print(\"Anda layak beasiswa\")\n",
    "    def datamhs(self):\n",
    "        print(self.nama,\",\",self.nim,\",\",self.ipk)\n",
    "        \n",
    "M1 = mahasiswa(\"VIKI WAHYUDI\",180441100122,3.75)\n",
    "M1.datamhs()\n",
    "M1.cek_layak()"
   ]
  },
  {
   "cell_type": "markdown",
   "metadata": {},
   "source": [
    "# Inherentance (Pewarisan)"
   ]
  },
  {
   "cell_type": "markdown",
   "metadata": {},
   "source": [
    "PENGERTIAN"
   ]
  },
  {
   "cell_type": "markdown",
   "metadata": {},
   "source": [
    "1. Kelas dapat mewarisi fungsionalitas kelas lain. Jika suatu objek dibuat menggunakan kelas yang mewarisi dari superclass, objek tersebut akan berisi metode kelas dan superclass.\n",
    "2. Warisan adalah ketika kelas menggunakan kode yang dibangun di dalam kelas lain. Jika kita berpikir tentang pewarisan dalam hal biologi, kita dapat memikirkan seorang anak yang mewarisi sifat-sifat tertentu dari orang tua mereka. Artinya, seorang anak dapat mewarisi tinggi atau warna mata orang tua. Anak-anak juga dapat berbagi nama belakang yang sama dengan orang tua mereka.\n",
    "3. Kelas yang disebut kelas anak atau subclass mewarisi metode dan variabel dari kelas induk atau kelas dasar.\n"
   ]
  },
  {
   "cell_type": "markdown",
   "metadata": {},
   "source": [
    "Example\n",
    "<img src="gambar/k.png">\n",
    "Tipe Inherentance\n",
    "<img src="gambar/l.png">"
   ]
  },
  {
   "cell_type": "code",
   "execution_count": 40,
   "metadata": {},
   "outputs": [
    {
     "name": "stdout",
     "output_type": "stream",
     "text": [
      "Name = brian\n",
      "Name = Diana\n",
      "Programming Python\n"
     ]
    }
   ],
   "source": [
    "class User:\n",
    "    name = \"\"\n",
    "    def __init__(self, name):\n",
    "        self.name = name\n",
    "    def printName(self):\n",
    "        print (\"Name = \" + self.name)\n",
    "\n",
    "class Programmer(User):\n",
    "    def __init__(self, name):\n",
    "        self.name = name\n",
    "    def doPython(self):\n",
    "        print (\"Programming Python\")\n",
    "brian = User(\"brian\")\n",
    "brian.printName()\n",
    "diana = Programmer(\"Diana\")\n",
    "diana.printName()\n",
    "diana.doPython()"
   ]
  },
  {
   "cell_type": "code",
   "execution_count": 7,
   "metadata": {},
   "outputs": [
    {
     "name": "stdout",
     "output_type": "stream",
     "text": [
      "Terry Fish\n",
      "bone\n",
      "False\n",
      "The fish is swimmming\n",
      "The fish can swim backwards\n",
      "Casey Fish\n",
      "The fish is swimmming\n",
      "The clownfisf is coexisting with sea anemonia\n"
     ]
    }
   ],
   "source": [
    "class Fish:\n",
    "    def __init__(self,first_name,last_name=\"Fish\",skeleton=\"bone\",eyelids=False):\n",
    "        self.first_name = first_name\n",
    "        self.last_name = last_name\n",
    "        self.skeleton = skeleton\n",
    "        self.eyelids = eyelids\n",
    "    def swim(self):\n",
    "        print(\"The fish is swimmming\")\n",
    "    def swim_backwards(self):\n",
    "        print(\"The fish can swim backwards\")\n",
    "#defauld yaitu semua atribut class induk diwariskan\n",
    "class Trout(Fish):\n",
    "    pass\n",
    "class Clownfish(Fish):\n",
    "    def live_with_anemone(self):\n",
    "        print(\"The clownfisf is coexisting with sea anemonia\")\n",
    "#Override yaitu isi dari method dan properti diganti nilainya\n",
    "class Shark(Fish):\n",
    "    def __init__(self,first_name,last_name=\"Shark\",skeleton=\"cartilage\",eyelids=True):\n",
    "        self.first_name = first_name\n",
    "        self.last_name = last_name\n",
    "        self.skeleton = skeleton\n",
    "        self.eyelids = eyelids\n",
    "    def swim_backwards(self):\n",
    "        print(\"The fish can swim backwards, but can sink bakwards\")\n",
    "#Super yaitu menambahkan atribut yang unik pada class dan method lainnya sama seperti induk\n",
    "class Ikan(Fish):\n",
    "    def __init__(self,water,first_name,last_name,skeleton,eyelids):\n",
    "        self.water = water\n",
    "        fish.__init__(self)\n",
    "        #atau\n",
    "        super.__init__(self)\n",
    "        \n",
    "terry = Trout(\"Terry\")\n",
    "print(terry.first_name + \" \" + terry.last_name)\n",
    "print(terry.skeleton)\n",
    "print(terry.eyelids)\n",
    "terry.swim()\n",
    "terry.swim_backwards()\n",
    "casey = Clownfish(\"Casey\")\n",
    "print(casey.first_name+\" \"+casey.last_name)\n",
    "casey.swim()\n",
    "casey.live_with_anemone()\n"
   ]
  },
  {
   "cell_type": "code",
   "execution_count": 39,
   "metadata": {},
   "outputs": [
    {
     "name": "stdout",
     "output_type": "stream",
     "text": [
      "saya method override di kelas induk\n",
      "saya method override di kelas induk\n"
     ]
    }
   ],
   "source": [
    "class induk:\n",
    "    def cobaOverride(self):\n",
    "        print(\"saya method override di kelas induk\")\n",
    "class turunan(induk):\n",
    "    def cobaOverride(self): \n",
    "        print(\"saya method override di kelas anak\")\n",
    "#deklarasi objek kelas induk\n",
    "objekInduk = induk()\n",
    "objekInduk.cobaOverride()\n",
    "objekAnak = turunan()\n",
    "induk.cobaOverride(objekAnak)"
   ]
  },
  {
   "cell_type": "code",
   "execution_count": 8,
   "metadata": {},
   "outputs": [
    {
     "name": "stdout",
     "output_type": "stream",
     "text": [
      "Coral lives in a community\n",
      "The anemone is protecting the clowmfish\n"
     ]
    }
   ],
   "source": [
    "#Multiple Inheritance\n",
    "class Coral:\n",
    "    def community(self):\n",
    "        print(\"Coral lives in a community\")\n",
    "class Anemone:\n",
    "    def project_clownfish(self):\n",
    "        print(\"The anemone is protecting the clowmfish\")\n",
    "class CoralReef(Coral,Anemone):\n",
    "        pass\n",
    "great_barrier = CoralReef()\n",
    "great_barrier.community()\n",
    "great_barrier.project_clownfish()"
   ]
  },
  {
   "cell_type": "code",
   "execution_count": 9,
   "metadata": {},
   "outputs": [
    {
     "name": "stdout",
     "output_type": "stream",
     "text": [
      "Nama: Kuda jenis rambut: Lurus\n",
      "Nama: Kedelai berat badan: 60kg\n",
      "Nama: Mule jenis rambut: Lurus berat badan: 60kg\n"
     ]
    }
   ],
   "source": [
    "class Kuda:\n",
    "    def __init__(self,nama,jenis_rambut):\n",
    "        self.nama = nama\n",
    "        self.jenis_rambut = jenis_rambut\n",
    "    def showInfo(self):\n",
    "        print(\"Nama: {} jenis rambut: {}\".format(self.nama,self.jenis_rambut))\n",
    "class Keledai:\n",
    "    def __init__(self,nama,berat_badan):\n",
    "        self.nama = nama\n",
    "        self.berat_badan = berat_badan\n",
    "    def showInfo1(self):\n",
    "        print(\"Nama: {} berat badan: {}\".format(self.nama,self.berat_badan))\n",
    "class Mule (Kuda,Keledai):\n",
    "    def __init__(self,nama,jenis_rambut,berat_badan):\n",
    "        Kuda.__init__(self,nama,jenis_rambut)\n",
    "        Keledai.__init__(self,nama,berat_badan)      \n",
    "    def showInfo2(self):\n",
    "        print(\"Nama: {} jenis rambut: {} berat badan: {}\".format(self.nama,self.jenis_rambut,self.berat_badan))\n",
    "K1 = Kuda(\"Kuda\",\"Lurus\")\n",
    "K1.showInfo()\n",
    "K2 = Keledai(\"Kedelai\",\"60kg\")\n",
    "K2.showInfo1()\n",
    "M1 = Mule(\"Mule\",\"Lurus\",\"60kg\")\n",
    "M1.showInfo2()"
   ]
  },
  {
   "cell_type": "code",
   "execution_count": 10,
   "metadata": {},
   "outputs": [
    {
     "name": "stdout",
     "output_type": "stream",
     "text": [
      "Nama: Viki\n",
      "Nama: Fery\n",
      "Nip: 19860926\n",
      "Nama: Nofal\n",
      "Nip: 122\n",
      "kode pegawai: 3665 lokasi cabang: Sampang\n"
     ]
    }
   ],
   "source": [
    "class Orang:\n",
    "    def __init__(self,nama):\n",
    "        self.nama = nama \n",
    "        print(\"Nama: {}\".format(self.nama))      \n",
    "class Karyawan(Orang):\n",
    "    def __init__(self,nama,nip):\n",
    "        self.nip = nip\n",
    "        super().__init__(nama)\n",
    "        print(\"Nip: {}\".format(self.nip))\n",
    "class KaryawanCabang(Karyawan):\n",
    "    def __init__(self,nama,nip,kode_pegawai,lokasi_cabang):\n",
    "        self.kode_pegawai = kode_pegawai \n",
    "        self.lokasi_cabang = lokasi_cabang\n",
    "        super().__init__(nama,nip)\n",
    "        print(\"kode pegawai: {} lokasi cabang: {}\".format(self.kode_pegawai,self.lokasi_cabang))\n",
    "O1 = Orang(\"Viki\")\n",
    "P1 = Karyawan(\"Fery\",19860926)\n",
    "OK = KaryawanCabang(\"Nofal\",122,3665,\"Sampang\")"
   ]
  },
  {
   "cell_type": "code",
   "execution_count": 11,
   "metadata": {},
   "outputs": [
    {
     "name": "stdout",
     "output_type": "stream",
     "text": [
      "\n",
      "\tNama: Viki Wahyudi \n",
      "\tNpm: 122 \n",
      "\tKode: SI201 \n",
      "\tMatkul: PBO \n",
      "\tNilai: A\n"
     ]
    }
   ],
   "source": [
    "class Mahasiswa:\n",
    "    def __init__(self,nama,npm):\n",
    "        self.nama = nama\n",
    "        self.npm = npm\n",
    "class Matkul:\n",
    "    def __init__(self,kode,nama_matkul):\n",
    "        self.kode = kode\n",
    "        self.nama_matkul = nama_matkul\n",
    "class PengambilanMatkul(Mahasiswa,Matkul):\n",
    "    def __init__(self,nama,npm,kode,nama_matkul,nilai):\n",
    "        self.nilai = nilai\n",
    "        Mahasiswa.__init__(self,nama,npm)\n",
    "        Matkul.__init__(self,kode,nama_matkul)\n",
    "    def showInfo(self):\n",
    "        print(\"\\n\\tNama: {} \\n\\tNpm: {} \\n\\tKode: {} \\n\\tMatkul: {} \\n\\tNilai: {}\".format(\n",
    "            self.nama,\n",
    "            self.npm,\n",
    "            self.kode,\n",
    "            self.nama_matkul,\n",
    "            self.nilai))\n",
    "M1 = Mahasiswa(\"Viki Wahyudi\",122)\n",
    "M2 = Matkul(\"SI201\",\"PBO\")\n",
    "P1 = PengambilanMatkul(\"Viki Wahyudi\",122,\"SI201\",\"PBO\",\"A\")\n",
    "P1.showInfo()"
   ]
  },
  {
   "cell_type": "code",
   "execution_count": 12,
   "metadata": {},
   "outputs": [
    {
     "name": "stdout",
     "output_type": "stream",
     "text": [
      "Nama: Viki Npm: 180441100122 Semester: 2\n",
      "Nama: Fery Nip: 19860926\n",
      "Nama: Rofiqi Nip: 149860926\n",
      "Nama: Wahyudi Nip: 2343546 Nidn: 2009017502\n"
     ]
    }
   ],
   "source": [
    "class Orang:\n",
    "    def __init__(self,nama):\n",
    "        self.nama = nama\n",
    "    def showInfo(self):\n",
    "        print(\"Nama: {}\".format(self.nama))      \n",
    "class Mhs(Orang):\n",
    "    def __init__(self,nama,npm,semester):\n",
    "        self.npm = npm\n",
    "        self.semester = semester\n",
    "        super().__init__(nama)\n",
    "    def showInfo1(self):\n",
    "        print(\"Nama: {} Npm: {} Semester: {}\".format(self.nama,self.npm,self.semester))\n",
    "class Pegawai(Orang):\n",
    "    def __init__(self,nama,nip):\n",
    "        self.nip = nip\n",
    "        super().__init__(nama)\n",
    "    def showInfo2(self):\n",
    "        print(\"Nama: {} Nip: {}\".format(self.nama,self.nip))\n",
    "class Karyawan(Pegawai):\n",
    "    pass\n",
    "class Dosen(Pegawai):\n",
    "    def __init__(self,nama,nip,nidn):\n",
    "        self.nidn = nidn\n",
    "        super().__init__(nama,nip)\n",
    "    def showInfo3(self):\n",
    "        print(\"Nama: {} Nip: {} Nidn: {}\".format(self.nama,self.nip,self.nidn))\n",
    "        \n",
    "M1 = Mhs(\"Viki\",180441100122,2)\n",
    "M1.showInfo1()\n",
    "P1 = Pegawai(\"Fery\",19860926)\n",
    "P1.showInfo2()\n",
    "K1 = Karyawan(\"Rofiqi\",149860926)\n",
    "K1.showInfo2()\n",
    "D1 = Dosen(\"Wahyudi\",2343546,2009017502)\n",
    "D1.showInfo3()"
   ]
  },
  {
   "cell_type": "markdown",
   "metadata": {},
   "source": [
    "# Review dan Polimorfisme"
   ]
  },
  {
   "cell_type": "markdown",
   "metadata": {},
   "source": [
    "ILUSTRASI\n",
    "<img src="gambar/d.png">"
   ]
  },
  {
   "cell_type": "markdown",
   "metadata": {},
   "source": [
    "Terkadang suatu objek datang dalam banyak jenis atau bentuk. Jika kita memiliki tombol, ada banyak output draw yang berbeda (tombol bulat, tombol periksa, tombol kotak, tombol dengan gambar) tetapi mereka berbagi logika yang sama: onClick (). Kami mengaksesnya menggunakan metode yang sama. Gagasan ini disebut Polimorfisme.\n",
    "\n",
    "Polimorfisme didasarkan pada kata Yunani Poly (banyak) dan morfisme (bentuk). Kami akan membuat struktur yang dapat mengambil atau menggunakan banyak bentuk objek."
   ]
  },
  {
   "cell_type": "markdown",
   "metadata": {},
   "source": [
    "Contoh Polymorphism with a Function"
   ]
  },
  {
   "cell_type": "code",
   "execution_count": 13,
   "metadata": {},
   "outputs": [
    {
     "name": "stdout",
     "output_type": "stream",
     "text": [
      "The shark's skeleton is mode of cartilage\n",
      "The clomfish's skeleton is mode of bone\n",
      "The shark is swimming\n",
      "The shark is swimming\n"
     ]
    }
   ],
   "source": [
    "class Shark:\n",
    "    def swim(self):\n",
    "        print(\"The shark is swimming\")\n",
    "    def swim_backwards(self):\n",
    "        print(\"The shark cannot swim backwards, but can sink backwards\")\n",
    "    def skeleton(self):\n",
    "        print(\"The shark's skeleton is mode of cartilage\")\n",
    "class Clomfish:\n",
    "    def swim(self):\n",
    "        print(\"The shark is swimming\")\n",
    "    def swim_backwards(self):\n",
    "        print(\"The clomfish can swim backwards\")\n",
    "    def skeleton(self):\n",
    "        print(\"The clomfish's skeleton is mode of bone\")\n",
    "sammy = Shark()\n",
    "sammy.skeleton()\n",
    "\n",
    "casey = Clomfish()\n",
    "casey.skeleton()\n",
    "def in_the_pecific(fish):\n",
    "    fish.swim()\n",
    "in_the_pecific(sammy)\n",
    "in_the_pecific(casey)"
   ]
  },
  {
   "cell_type": "markdown",
   "metadata": {},
   "source": [
    "Contoh Polymorphism with Class Methods"
   ]
  },
  {
   "cell_type": "code",
   "execution_count": 14,
   "metadata": {},
   "outputs": [
    {
     "name": "stdout",
     "output_type": "stream",
     "text": [
      "Goarrr\n",
      "woof woof\n"
     ]
    }
   ],
   "source": [
    "class Bear():\n",
    "    def sound(self):\n",
    "        print(\"Goarrr\")\n",
    "class Dog():\n",
    "    def sound(self):\n",
    "        print(\"woof woof\")\n",
    "def makeSound(animal):\n",
    "    animal.sound()\n",
    "barObj = Bear()\n",
    "dogObj = Dog()\n",
    "makeSound(barObj)\n",
    "makeSound(dogObj)"
   ]
  },
  {
   "cell_type": "markdown",
   "metadata": {},
   "source": [
    "<img src="gambar/j.png">\n",
    "kelas abstrak yang disebut dokumen. Jika kita mendefinisikan fungsi show () maka baik PdfDocument dan WordDocument harus memiliki fungsi show ()."
   ]
  },
  {
   "cell_type": "code",
   "execution_count": 15,
   "metadata": {},
   "outputs": [
    {
     "name": "stdout",
     "output_type": "stream",
     "text": [
      "Document1: Show pdf contents!\n",
      "Document2: Show pdf contents!\n",
      "Document3: Show word contents!\n"
     ]
    }
   ],
   "source": [
    "class Document:\n",
    "    def __init__(self, name):\n",
    "        self.name = name\n",
    " \n",
    "    def show(self):\n",
    "        raise NotImplementedError(\"Subclass must implement abstract method\")\n",
    " \n",
    "class Pdf(Document):\n",
    "    def show(self):\n",
    "        return 'Show pdf contents!'\n",
    " \n",
    "class Word(Document):\n",
    "    def show(self):\n",
    "        return 'Show word contents!'\n",
    " \n",
    "documents = [Pdf('Document1'),\n",
    "            Pdf('Document2'),\n",
    "            Word('Document3')]\n",
    " \n",
    "for document in documents:\n",
    "    print(document.name + ': ' + document.show())\n"
   ]
  },
  {
   "cell_type": "markdown",
   "metadata": {},
   "source": [
    "<img src="gambar/n.png">"
   ]
  },
  {
   "cell_type": "code",
   "execution_count": 16,
   "metadata": {},
   "outputs": [
    {
     "name": "stdout",
     "output_type": "stream",
     "text": [
      "Bananatruck: Truck driving slowly because heavily loaded.\n",
      "Orangetruck: Truck driving slowly because heavily loaded.\n",
      "Z3: Sportscar driving!\n"
     ]
    }
   ],
   "source": [
    "class Car:\n",
    "    def __init__(self, name):\n",
    "        self.name = name\n",
    " \n",
    "    def drive(self):\n",
    "        raise NotImplementedError(\"Subclass must implement abstract method\")\n",
    " \n",
    "    def stop(self):\n",
    "        raise NotImplementedError(\"Subclass must implement abstract method\")\n",
    " \n",
    "class Sportscar(Car):\n",
    "    def drive(self):\n",
    "        return 'Sportscar driving!'\n",
    " \n",
    "    def stop(self):\n",
    "        return 'Sportscar braking!'\n",
    " \n",
    "class Truck(Car):\n",
    "    def drive(self):\n",
    "        return 'Truck driving slowly because heavily loaded.'\n",
    " \n",
    "    def stop(self):\n",
    "        return 'Truck braking!'\n",
    " \n",
    "cars = [Truck('Bananatruck'),\n",
    "Truck('Orangetruck'),\n",
    "Sportscar('Z3')]\n",
    " \n",
    "for car in cars:\n",
    "    print(car.name + ': ' + car.drive())\n"
   ]
  },
  {
   "cell_type": "code",
   "execution_count": 18,
   "metadata": {},
   "outputs": [
    {
     "name": "stdout",
     "output_type": "stream",
     "text": [
      "Nama: Kucing\n",
      "Berjalan dengan kaki\n",
      "Meong\n",
      "Nama: Anjing\n",
      "Berjalan dengan kaki\n",
      "guk guk\n",
      "Nama: Ular\n",
      "Berjalan dengan otot perut\n",
      "Desis\n"
     ]
    }
   ],
   "source": [
    "class Binatang:\n",
    "    def __init__(self,nama):\n",
    "        self.nama = nama\n",
    "    def jalan(self):\n",
    "        raise NotImplementedError(\"Subclass must implement abstract method\")\n",
    "    def suara(self):\n",
    "        raise NotImplementedError(\"Subclass must implement abstract method\")\n",
    "    def showInfo(self):\n",
    "        print(\"Nama: {}\".format(self.nama))\n",
    "class Kucing(Binatang):\n",
    "    def jalan(self):\n",
    "        print(\"Berjalan dengan kaki\")\n",
    "    def suara(self):\n",
    "        print(\"Meong\")\n",
    "class Anjing(Binatang):\n",
    "    def jalan(self):\n",
    "        print(\"Berjalan dengan kaki\")\n",
    "    def suara(self):\n",
    "        print(\"guk guk\")\n",
    "class Ular(Binatang):\n",
    "    def jalan(self):\n",
    "        print(\"Berjalan dengan otot perut\")\n",
    "    def suara(self):\n",
    "        print(\"Desis\")\n",
    "kucing1 = Kucing(\"Kucing\")\n",
    "anjing1 = Anjing(\"Anjing\")\n",
    "ular1 = Ular(\"Ular\")\n",
    "\n",
    "for Binatang in (kucing1,anjing1,ular1):\n",
    "    Binatang.showInfo()\n",
    "    Binatang.jalan()\n",
    "    Binatang.suara()"
   ]
  },
  {
   "cell_type": "code",
   "execution_count": 20,
   "metadata": {},
   "outputs": [
    {
     "name": "stdout",
     "output_type": "stream",
     "text": [
      "nama: Rectangel jumlah garis: 4  warna: Biru besar sudut: 90\n",
      "nama: Circle jumlah garis: 1 warna: Ungu\n",
      "nama: Triangel jumlah garis: 3 warna: Abu-Abu besar sudut: 60\n"
     ]
    }
   ],
   "source": [
    "class Shape:\n",
    "    def __init__(self,nama,jumlah_garis,warna):\n",
    "        self.nama = nama\n",
    "        self.jumlah_garis = jumlah_garis\n",
    "        self.warna = warna\n",
    "    def showInfo(self):\n",
    "        print(\"nama: {} jumlah garis: {} warna: {}\".format(self.nama,self.jumlah_garis,self.warna))\n",
    "class Rectengle(Shape):\n",
    "    def __init__(self,nama,jumlah_garis,warna,besar_sudut):\n",
    "        self.besar_sudut = besar_sudut\n",
    "        super().__init__(nama,jumlah_garis,warna)\n",
    "    def showInfo(self):\n",
    "        print(\"nama: {} jumlah garis: {}  warna: {} besar sudut: {}\".format(self.nama,self.jumlah_garis,self.warna,self.besar_sudut))\n",
    "class Circle(Shape):\n",
    "    def __init__(self,nama,jumlah_garis,warna):\n",
    "        super().__init__(nama,jumlah_garis,warna)\n",
    "    def showInfo(self):\n",
    "        print(\"nama: {} jumlah garis: {} warna: {}\".format(self.nama,self.jumlah_garis,self.warna))\n",
    "class Triangel(Shape):\n",
    "    def __init__(self,nama,jumlah_garis,warna,besar_sudut):\n",
    "        self.besar_sudut = besar_sudut\n",
    "        super().__init__(nama,jumlah_garis,warna)\n",
    "    def showInfo(self):\n",
    "        print(\"nama: {} jumlah garis: {} warna: {} besar sudut: {}\".format(self.nama,self.jumlah_garis,self.warna,self.besar_sudut))\n",
    "Rectengle1 = Rectengle(\"Rectangel\",4,\"Biru\",90)\n",
    "Circle1 = Circle(\"Circle\",1,\"Ungu\")\n",
    "Triangel1 = Triangel(\"Triangel\",3,\"Abu-Abu\",60)\n",
    "\n",
    "for Shape in (Rectengle1,Circle1,Triangel1):\n",
    "    Shape.showInfo()\n"
   ]
  },
  {
   "cell_type": "code",
   "execution_count": 21,
   "metadata": {},
   "outputs": [
    {
     "name": "stdout",
     "output_type": "stream",
     "text": [
      "Hello \n",
      "Hello Guido\n"
     ]
    }
   ],
   "source": [
    "class Human:\n",
    "    def sayHello(self, name=None):\n",
    "        if name is not None:\n",
    "            print('Hello ' + name)\n",
    "        else:\n",
    "            print('Hello ')\n",
    " \n",
    "# Create instance\n",
    "obj = Human()\n",
    " \n",
    "# Call the method\n",
    "obj.sayHello()\n",
    " \n",
    "# Call the method with a parameter\n",
    "obj.sayHello('Guido')"
   ]
  },
  {
   "cell_type": "code",
   "execution_count": 22,
   "metadata": {},
   "outputs": [
    {
     "name": "stdout",
     "output_type": "stream",
     "text": [
      "9\n",
      "HiGeeks\n"
     ]
    }
   ],
   "source": [
    "def add(datatype,*args):\n",
    "    if datatype == \"int\":\n",
    "        answer = 0\n",
    "    if datatype == \"str\":\n",
    "        answer = \"\"\n",
    "    for x in args:\n",
    "        answer = answer + x\n",
    "    print(answer)\n",
    "#integer\n",
    "add(\"int\",4,5)\n",
    "#string\n",
    "add(\"str\",\"Hi\",\"Geeks\")"
   ]
  },
  {
   "cell_type": "code",
   "execution_count": 23,
   "metadata": {},
   "outputs": [
    {
     "name": "stdout",
     "output_type": "stream",
     "text": [
      "point object is at: (3,1)\n",
      "point object is at: (1,5)\n"
     ]
    }
   ],
   "source": [
    "class Point:\n",
    "    def __init__(self,x=0,y=0):\n",
    "        self.x = x\n",
    "        self.y = y\n",
    "    #def__str__(self):\n",
    "    #return \"({0},({1})\".format(self.x,self.y)\n",
    "    def __str__(self):\n",
    "        return \"point object is at: (\"+str(self.x)+\",\"+str(self.y)+\")\"\n",
    "    def __sub__(self,other):\n",
    "        x = self.x - other.x\n",
    "        y = self.y - other.y\n",
    "        return Point(x,y)\n",
    "    def __add__(self,other):\n",
    "        x = self.x + other.x\n",
    "        y = self.y + other.y\n",
    "        return Point(x,y)\n",
    "p1 = Point(2,3)\n",
    "p2 = Point(-1,2)\n",
    "print(p1-p2)\n",
    "print(p1+p2)"
   ]
  },
  {
   "cell_type": "code",
   "execution_count": 24,
   "metadata": {},
   "outputs": [
    {
     "name": "stdout",
     "output_type": "stream",
     "text": [
      "2/4\n",
      "6/4\n",
      "2/4\n"
     ]
    }
   ],
   "source": [
    "class Fraction:\n",
    "    def __init__(self,top,bottom):\n",
    "        self.num = top\n",
    "        self.den = bottom\n",
    "    #def show(self):\n",
    "        #print(self.num,\"/\",self.den)\n",
    "    def __str__(self):\n",
    "        return str(self.num)+\"/\"+str(self.den)\n",
    "    def __add__(self,otherfraction):\n",
    "        newnum = self.num * otherfraction.den + self.den * otherfraction.num\n",
    "        newden = self.den * otherfraction.num\n",
    "        return Fraction(newnum,newden)\n",
    "    def __truediv__(self,otherfraction):\n",
    "        newnum = self.num * otherfraction.den\n",
    "        newden = self.den * otherfraction.num\n",
    "        return Fraction(newnum,newden)\n",
    "f = Fraction(2,4)\n",
    "#show(f)\n",
    "print(f)\n",
    "\n",
    "f1 = Fraction(1,4)\n",
    "f2 = Fraction(1,2)\n",
    "print(f1+f2)\n",
    "print(f1/f2)\n"
   ]
  },
  {
   "cell_type": "code",
   "execution_count": 25,
   "metadata": {},
   "outputs": [
    {
     "name": "stdout",
     "output_type": "stream",
     "text": [
      "5\n",
      "11\n"
     ]
    }
   ],
   "source": [
    "def product(self, *args):\n",
    "    y = 0\n",
    "    for x in args:\n",
    "        y = y + x\n",
    "    print(y)\n",
    "product(4,5)\n",
    "product(4,5,6)"
   ]
  }
 ],
 "metadata": {
  "kernelspec": {
   "display_name": "Python 3",
   "language": "python",
   "name": "python3"
  },
  "language_info": {
   "codemirror_mode": {
    "name": "ipython",
    "version": 3
   },
   "file_extension": ".py",
   "mimetype": "text/x-python",
   "name": "python",
   "nbconvert_exporter": "python",
   "pygments_lexer": "ipython3",
   "version": "3.7.1"
  }
 },
 "nbformat": 4,
 "nbformat_minor": 2
}
