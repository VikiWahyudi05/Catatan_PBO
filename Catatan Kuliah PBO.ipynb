{
 "cells": [
  {
   "cell_type": "markdown",
   "metadata": {},
   "source": [
    "# CLASS VS OBJECT"
   ]
  },
  {
   "cell_type": "markdown",
   "metadata": {},
   "source": [
    "INTRODUCTION OF CLASS"
   ]
  },
  {
   "cell_type": "markdown",
   "metadata": {},
   "source": [
    "ILUSTRASI CLASS & OBJEK PERBEDAAN ATRIBUT DAN METHOD"
   ]
  },
  {
   "cell_type": "markdown",
   "metadata": {},
   "source": [
    "<img src=\"gambar/h.PNG\">"
   ]
  },
  {
   "cell_type": "markdown",
   "metadata": {},
   "source": [
    "ILUSTRASI\n",
    "<img src=\"gambar/a.PNG\">"
   ]
  },
  {
   "cell_type": "markdown",
   "metadata": {},
   "source": [
    "keyword class diikuti dengan nama class yang kita inginkan. Lebih baik digunakan kata yang diawali huruf kapital. constructor menggunakan method bawaan Python yang bernama init. Metode init() adalah metode konstruktor, yaitu metode khusus yang digunakan Python untuk menginisialisasi pembuatan objek dari kelas tersebut. Setiap method harus memiliki parameter self yang artinya method tersebut dimiliki dan terdaftar ke class tersebut untuk membedakan dari method atau fungsi yang ada di luar class."
   ]
  },
  {
   "cell_type": "markdown",
   "metadata": {},
   "source": [
    "Mengakses Method Objek Dengan Menggunakan Opeator (.)"
   ]
  },
  {
   "cell_type": "code",
   "execution_count": 32,
   "metadata": {},
   "outputs": [
    {
     "name": "stdout",
     "output_type": "stream",
     "text": [
      "4\n",
      "Luas 16\n",
      "volume 64\n",
      "Luas_Permukaan 96\n"
     ]
    }
   ],
   "source": [
    "class kubus:\n",
    "    def __init__(self,s):\n",
    "        self.sisi = s\n",
    "    def tampilkansisi(self):\n",
    "        print(self.sisi)\n",
    "    def luas(self):\n",
    "        print(\"Luas\",self.sisi**2)\n",
    "    def volume(self):\n",
    "        print(\"volume\",self.sisi**3)\n",
    "    def luas_permukaan(self):\n",
    "        print(\"Luas_Permukaan\",self.sisi**2*6)\n",
    "kubus1 = kubus(4)\n",
    "kubus1.tampilkansisi()\n",
    "kubus1.luas()\n",
    "kubus1.volume()\n",
    "kubus1.luas_permukaan()"
   ]
  },
  {
   "cell_type": "markdown",
   "metadata": {},
   "source": [
    "Contoh Program menggunakan class dan objek untuk menghitung umur"
   ]
  },
  {
   "cell_type": "code",
   "execution_count": 2,
   "metadata": {},
   "outputs": [
    {
     "name": "stdout",
     "output_type": "stream",
     "text": [
      "Viki , admin dan 150000\n",
      "umur: 19\n"
     ]
    }
   ],
   "source": [
    "from datetime import datetime\n",
    "sekarang = datetime.now()\n",
    "tahun = sekarang.year\n",
    "\n",
    "class pegawai:\n",
    "    def __init__(self,n,j,g,lahir):\n",
    "        self.nama = n\n",
    "        self.jabatan = j\n",
    "        self.gaji = g\n",
    "        self.tahun_lahir = lahir\n",
    "\n",
    "    def tampilkan(self):\n",
    "        print(self.nama,\",\",self.jabatan,\"dan\",self.gaji*30)\n",
    "    def tampilkanumur(self):\n",
    "        print(\"umur:\", tahun-self.tahun_lahir)\n",
    "        \n",
    "        \n",
    "p1 = pegawai(\"Viki\",\"admin\",5000,2000)\n",
    "p1.tampilkan()\n",
    "p1.tampilkanumur()"
   ]
  },
  {
   "cell_type": "code",
   "execution_count": 36,
   "metadata": {},
   "outputs": [
    {
     "name": "stdout",
     "output_type": "stream",
     "text": [
      "umur 19\n"
     ]
    }
   ],
   "source": [
    "from  datetime import datetime\n",
    "sekarang = datetime.now()\n",
    "tahun = 2019\n",
    "class Mahasiswa:\n",
    "    def __init__(self,a,b,c):\n",
    "        self.nama = a\n",
    "        self.prodi = b\n",
    "        self.tahun_lahir = c\n",
    "    def tampilkanumur(self):\n",
    "        print(\"umur\", tahun-self.tahun_lahir)\n",
    "    \n",
    "M1 = Mahasiswa (\"VIKI WAHYUDI\",\"SISTEM INFORMASI\",2000)\n",
    "M1.tampilkanumur()"
   ]
  },
  {
   "cell_type": "markdown",
   "metadata": {},
   "source": [
    "Contoh Program menggunakan class dan objek untuk mengecek kelayakan mendapat beasiswa"
   ]
  },
  {
   "cell_type": "code",
   "execution_count": null,
   "metadata": {},
   "outputs": [],
   "source": [
    "class mahasiswa:\n",
    "    def __init__(self,a,b,c):\n",
    "        self.nama = a\n",
    "        self.nim = b\n",
    "        self.ipk = c\n",
    "    def cek_layak(self):\n",
    "        if (self.ipk<3):\n",
    "            print(\"tidak layak beasiswa\")\n",
    "        else:\n",
    "            print(\"Anda layak beasiswa\")\n",
    "    def datamhs(self):\n",
    "        print(self.nama,\",\",self.nim,\",\",self.ipk)\n",
    "        \n",
    "M1 = mahasiswa(\"VIKI WAHYUDI\",180441100122,3.75)\n",
    "M1.datamhs()\n",
    "M1.cek_layak()"
   ]
  },
  {
   "cell_type": "markdown",
   "metadata": {},
   "source": [
    "# Inherentance (Pewarisan)"
   ]
  },
  {
   "cell_type": "markdown",
   "metadata": {},
   "source": [
    "PENGERTIAN"
   ]
  },
  {
   "cell_type": "markdown",
   "metadata": {},
   "source": [
    "1. Kelas dapat mewarisi fungsionalitas kelas lain. Jika suatu objek dibuat menggunakan kelas yang mewarisi dari superclass, objek tersebut akan berisi metode kelas dan superclass.\n",
    "2. Warisan adalah ketika kelas menggunakan kode yang dibangun di dalam kelas lain. Jika kita berpikir tentang pewarisan dalam hal biologi, kita dapat memikirkan seorang anak yang mewarisi sifat-sifat tertentu dari orang tua mereka. Artinya, seorang anak dapat mewarisi tinggi atau warna mata orang tua. Anak-anak juga dapat berbagi nama belakang yang sama dengan orang tua mereka.\n",
    "3. Kelas yang disebut kelas anak atau subclass mewarisi metode dan variabel dari kelas induk atau kelas dasar.\n"
   ]
  },
  {
   "cell_type": "markdown",
   "metadata": {},
   "source": [
    "Example\n",
    "<img src=\"gambar/k.PNG\">\n",
    "Tipe Inherentance\n",
    "<img src=\"gambar/l.PNG\">"
   ]
  },
  {
   "cell_type": "code",
   "execution_count": 40,
   "metadata": {},
   "outputs": [
    {
     "name": "stdout",
     "output_type": "stream",
     "text": [
      "Name = brian\n",
      "Name = Diana\n",
      "Programming Python\n"
     ]
    }
   ],
   "source": [
    "class User:\n",
    "    name = \"\"\n",
    "    def __init__(self, name):\n",
    "        self.name = name\n",
    "    def printName(self):\n",
    "        print (\"Name = \" + self.name)\n",
    "\n",
    "class Programmer(User):\n",
    "    def __init__(self, name):\n",
    "        self.name = name\n",
    "    def doPython(self):\n",
    "        print (\"Programming Python\")\n",
    "brian = User(\"brian\")\n",
    "brian.printName()\n",
    "diana = Programmer(\"Diana\")\n",
    "diana.printName()\n",
    "diana.doPython()"
   ]
  },
  {
   "cell_type": "code",
   "execution_count": 7,
   "metadata": {},
   "outputs": [
    {
     "name": "stdout",
     "output_type": "stream",
     "text": [
      "Terry Fish\n",
      "bone\n",
      "False\n",
      "The fish is swimmming\n",
      "The fish can swim backwards\n",
      "Casey Fish\n",
      "The fish is swimmming\n",
      "The clownfisf is coexisting with sea anemonia\n"
     ]
    }
   ],
   "source": [
    "class Fish:\n",
    "    def __init__(self,first_name,last_name=\"Fish\",skeleton=\"bone\",eyelids=False):\n",
    "        self.first_name = first_name\n",
    "        self.last_name = last_name\n",
    "        self.skeleton = skeleton\n",
    "        self.eyelids = eyelids\n",
    "    def swim(self):\n",
    "        print(\"The fish is swimmming\")\n",
    "    def swim_backwards(self):\n",
    "        print(\"The fish can swim backwards\")\n",
    "#defauld yaitu semua atribut class induk diwariskan\n",
    "class Trout(Fish):\n",
    "    pass\n",
    "class Clownfish(Fish):\n",
    "    def live_with_anemone(self):\n",
    "        print(\"The clownfisf is coexisting with sea anemonia\")\n",
    "#Override yaitu isi dari method dan properti diganti nilainya\n",
    "class Shark(Fish):\n",
    "    def __init__(self,first_name,last_name=\"Shark\",skeleton=\"cartilage\",eyelids=True):\n",
    "        self.first_name = first_name\n",
    "        self.last_name = last_name\n",
    "        self.skeleton = skeleton\n",
    "        self.eyelids = eyelids\n",
    "    def swim_backwards(self):\n",
    "        print(\"The fish can swim backwards, but can sink bakwards\")\n",
    "#Super yaitu menambahkan atribut yang unik pada class dan method lainnya sama seperti induk\n",
    "class Ikan(Fish):\n",
    "    def __init__(self,water,first_name,last_name,skeleton,eyelids):\n",
    "        self.water = water\n",
    "        fish.__init__(self)\n",
    "        #atau\n",
    "        super.__init__(self)\n",
    "        \n",
    "terry = Trout(\"Terry\")\n",
    "print(terry.first_name + \" \" + terry.last_name)\n",
    "print(terry.skeleton)\n",
    "print(terry.eyelids)\n",
    "terry.swim()\n",
    "terry.swim_backwards()\n",
    "casey = Clownfish(\"Casey\")\n",
    "print(casey.first_name+\" \"+casey.last_name)\n",
    "casey.swim()\n",
    "casey.live_with_anemone()\n"
   ]
  },
  {
   "cell_type": "markdown",
   "metadata": {},
   "source": [
    "Latihan Inheritance"
   ]
  },
  {
   "cell_type": "code",
   "execution_count": 39,
   "metadata": {},
   "outputs": [
    {
     "name": "stdout",
     "output_type": "stream",
     "text": [
      "saya method override di kelas induk\n",
      "saya method override di kelas induk\n"
     ]
    }
   ],
   "source": [
    "class induk:\n",
    "    def cobaOverride(self):\n",
    "        print(\"saya method override di kelas induk\")\n",
    "class turunan(induk):\n",
    "    def cobaOverride(self): \n",
    "        print(\"saya method override di kelas anak\")\n",
    "#deklarasi objek kelas induk\n",
    "objekInduk = induk()\n",
    "objekInduk.cobaOverride()\n",
    "objekAnak = turunan()\n",
    "induk.cobaOverride(objekAnak)"
   ]
  },
  {
   "cell_type": "code",
   "execution_count": 8,
   "metadata": {},
   "outputs": [
    {
     "name": "stdout",
     "output_type": "stream",
     "text": [
      "Coral lives in a community\n",
      "The anemone is protecting the clowmfish\n"
     ]
    }
   ],
   "source": [
    "#Multiple Inheritance\n",
    "class Coral:\n",
    "    def community(self):\n",
    "        print(\"Coral lives in a community\")\n",
    "class Anemone:\n",
    "    def project_clownfish(self):\n",
    "        print(\"The anemone is protecting the clowmfish\")\n",
    "class CoralReef(Coral,Anemone):\n",
    "        pass\n",
    "great_barrier = CoralReef()\n",
    "great_barrier.community()\n",
    "great_barrier.project_clownfish()"
   ]
  },
  {
   "cell_type": "code",
   "execution_count": 9,
   "metadata": {},
   "outputs": [
    {
     "name": "stdout",
     "output_type": "stream",
     "text": [
      "Nama: Kuda jenis rambut: Lurus\n",
      "Nama: Kedelai berat badan: 60kg\n",
      "Nama: Mule jenis rambut: Lurus berat badan: 60kg\n"
     ]
    }
   ],
   "source": [
    "class Kuda:\n",
    "    def __init__(self,nama,jenis_rambut):\n",
    "        self.nama = nama\n",
    "        self.jenis_rambut = jenis_rambut\n",
    "    def showInfo(self):\n",
    "        print(\"Nama: {} jenis rambut: {}\".format(self.nama,self.jenis_rambut))\n",
    "class Keledai:\n",
    "    def __init__(self,nama,berat_badan):\n",
    "        self.nama = nama\n",
    "        self.berat_badan = berat_badan\n",
    "    def showInfo1(self):\n",
    "        print(\"Nama: {} berat badan: {}\".format(self.nama,self.berat_badan))\n",
    "class Mule (Kuda,Keledai):\n",
    "    def __init__(self,nama,jenis_rambut,berat_badan):\n",
    "        Kuda.__init__(self,nama,jenis_rambut)\n",
    "        Keledai.__init__(self,nama,berat_badan)      \n",
    "    def showInfo2(self):\n",
    "        print(\"Nama: {} jenis rambut: {} berat badan: {}\".format(self.nama,self.jenis_rambut,self.berat_badan))\n",
    "K1 = Kuda(\"Kuda\",\"Lurus\")\n",
    "K1.showInfo()\n",
    "K2 = Keledai(\"Kedelai\",\"60kg\")\n",
    "K2.showInfo1()\n",
    "M1 = Mule(\"Mule\",\"Lurus\",\"60kg\")\n",
    "M1.showInfo2()"
   ]
  },
  {
   "cell_type": "code",
   "execution_count": 10,
   "metadata": {},
   "outputs": [
    {
     "name": "stdout",
     "output_type": "stream",
     "text": [
      "Nama: Viki\n",
      "Nama: Fery\n",
      "Nip: 19860926\n",
      "Nama: Nofal\n",
      "Nip: 122\n",
      "kode pegawai: 3665 lokasi cabang: Sampang\n"
     ]
    }
   ],
   "source": [
    "class Orang:\n",
    "    def __init__(self,nama):\n",
    "        self.nama = nama \n",
    "        print(\"Nama: {}\".format(self.nama))      \n",
    "class Karyawan(Orang):\n",
    "    def __init__(self,nama,nip):\n",
    "        self.nip = nip\n",
    "        super().__init__(nama)\n",
    "        print(\"Nip: {}\".format(self.nip))\n",
    "class KaryawanCabang(Karyawan):\n",
    "    def __init__(self,nama,nip,kode_pegawai,lokasi_cabang):\n",
    "        self.kode_pegawai = kode_pegawai \n",
    "        self.lokasi_cabang = lokasi_cabang\n",
    "        super().__init__(nama,nip)\n",
    "        print(\"kode pegawai: {} lokasi cabang: {}\".format(self.kode_pegawai,self.lokasi_cabang))\n",
    "O1 = Orang(\"Viki\")\n",
    "P1 = Karyawan(\"Fery\",19860926)\n",
    "OK = KaryawanCabang(\"Nofal\",122,3665,\"Sampang\")"
   ]
  },
  {
   "cell_type": "code",
   "execution_count": 11,
   "metadata": {},
   "outputs": [
    {
     "name": "stdout",
     "output_type": "stream",
     "text": [
      "\n",
      "\tNama: Viki Wahyudi \n",
      "\tNpm: 122 \n",
      "\tKode: SI201 \n",
      "\tMatkul: PBO \n",
      "\tNilai: A\n"
     ]
    }
   ],
   "source": [
    "class Mahasiswa:\n",
    "    def __init__(self,nama,npm):\n",
    "        self.nama = nama\n",
    "        self.npm = npm\n",
    "class Matkul:\n",
    "    def __init__(self,kode,nama_matkul):\n",
    "        self.kode = kode\n",
    "        self.nama_matkul = nama_matkul\n",
    "class PengambilanMatkul(Mahasiswa,Matkul):\n",
    "    def __init__(self,nama,npm,kode,nama_matkul,nilai):\n",
    "        self.nilai = nilai\n",
    "        Mahasiswa.__init__(self,nama,npm)\n",
    "        Matkul.__init__(self,kode,nama_matkul)\n",
    "    def showInfo(self):\n",
    "        print(\"\\n\\tNama: {} \\n\\tNpm: {} \\n\\tKode: {} \\n\\tMatkul: {} \\n\\tNilai: {}\".format(\n",
    "            self.nama,\n",
    "            self.npm,\n",
    "            self.kode,\n",
    "            self.nama_matkul,\n",
    "            self.nilai))\n",
    "M1 = Mahasiswa(\"Viki Wahyudi\",122)\n",
    "M2 = Matkul(\"SI201\",\"PBO\")\n",
    "P1 = PengambilanMatkul(\"Viki Wahyudi\",122,\"SI201\",\"PBO\",\"A\")\n",
    "P1.showInfo()"
   ]
  },
  {
   "cell_type": "code",
   "execution_count": 12,
   "metadata": {},
   "outputs": [
    {
     "name": "stdout",
     "output_type": "stream",
     "text": [
      "Nama: Viki Npm: 180441100122 Semester: 2\n",
      "Nama: Fery Nip: 19860926\n",
      "Nama: Rofiqi Nip: 149860926\n",
      "Nama: Wahyudi Nip: 2343546 Nidn: 2009017502\n"
     ]
    }
   ],
   "source": [
    "class Orang:\n",
    "    def __init__(self,nama):\n",
    "        self.nama = nama\n",
    "    def showInfo(self):\n",
    "        print(\"Nama: {}\".format(self.nama))      \n",
    "class Mhs(Orang):\n",
    "    def __init__(self,nama,npm,semester):\n",
    "        self.npm = npm\n",
    "        self.semester = semester\n",
    "        super().__init__(nama)\n",
    "    def showInfo1(self):\n",
    "        print(\"Nama: {} Npm: {} Semester: {}\".format(self.nama,self.npm,self.semester))\n",
    "class Pegawai(Orang):\n",
    "    def __init__(self,nama,nip):\n",
    "        self.nip = nip\n",
    "        super().__init__(nama)\n",
    "    def showInfo2(self):\n",
    "        print(\"Nama: {} Nip: {}\".format(self.nama,self.nip))\n",
    "class Karyawan(Pegawai):\n",
    "    pass\n",
    "class Dosen(Pegawai):\n",
    "    def __init__(self,nama,nip,nidn):\n",
    "        self.nidn = nidn\n",
    "        super().__init__(nama,nip)\n",
    "    def showInfo3(self):\n",
    "        print(\"Nama: {} Nip: {} Nidn: {}\".format(self.nama,self.nip,self.nidn))\n",
    "        \n",
    "M1 = Mhs(\"Viki\",180441100122,2)\n",
    "M1.showInfo1()\n",
    "P1 = Pegawai(\"Fery\",19860926)\n",
    "P1.showInfo2()\n",
    "K1 = Karyawan(\"Rofiqi\",149860926)\n",
    "K1.showInfo2()\n",
    "D1 = Dosen(\"Wahyudi\",2343546,2009017502)\n",
    "D1.showInfo3()"
   ]
  },
  {
   "cell_type": "markdown",
   "metadata": {},
   "source": [
    "# Review dan Polimorfisme"
   ]
  },
  {
   "cell_type": "markdown",
   "metadata": {},
   "source": [
    "ILUSTRASI\n",
    "<img src=\"gambar/d.PNG\">"
   ]
  },
  {
   "cell_type": "markdown",
   "metadata": {},
   "source": [
    "Terkadang suatu objek datang dalam banyak jenis atau bentuk. Jika kita memiliki tombol, ada banyak output draw yang berbeda (tombol bulat, tombol periksa, tombol kotak, tombol dengan gambar) tetapi mereka berbagi logika yang sama: onClick (). Kami mengaksesnya menggunakan metode yang sama. Gagasan ini disebut Polimorfisme.\n",
    "\n",
    "Polimorfisme didasarkan pada kata Yunani Poly (banyak) dan morfisme (bentuk). Kami akan membuat struktur yang dapat mengambil atau menggunakan banyak bentuk objek."
   ]
  },
  {
   "cell_type": "markdown",
   "metadata": {},
   "source": [
    "Contoh Polymorphism with a Function"
   ]
  },
  {
   "cell_type": "code",
   "execution_count": 13,
   "metadata": {},
   "outputs": [
    {
     "name": "stdout",
     "output_type": "stream",
     "text": [
      "The shark's skeleton is mode of cartilage\n",
      "The clomfish's skeleton is mode of bone\n",
      "The shark is swimming\n",
      "The shark is swimming\n"
     ]
    }
   ],
   "source": [
    "class Shark:\n",
    "    def swim(self):\n",
    "        print(\"The shark is swimming\")\n",
    "    def swim_backwards(self):\n",
    "        print(\"The shark cannot swim backwards, but can sink backwards\")\n",
    "    def skeleton(self):\n",
    "        print(\"The shark's skeleton is mode of cartilage\")\n",
    "class Clomfish:\n",
    "    def swim(self):\n",
    "        print(\"The shark is swimming\")\n",
    "    def swim_backwards(self):\n",
    "        print(\"The clomfish can swim backwards\")\n",
    "    def skeleton(self):\n",
    "        print(\"The clomfish's skeleton is mode of bone\")\n",
    "sammy = Shark()\n",
    "sammy.skeleton()\n",
    "\n",
    "casey = Clomfish()\n",
    "casey.skeleton()\n",
    "def in_the_pecific(fish):\n",
    "    fish.swim()\n",
    "in_the_pecific(sammy)\n",
    "in_the_pecific(casey)"
   ]
  },
  {
   "cell_type": "markdown",
   "metadata": {},
   "source": [
    "Contoh Polymorphism with Class Methods"
   ]
  },
  {
   "cell_type": "code",
   "execution_count": 14,
   "metadata": {},
   "outputs": [
    {
     "name": "stdout",
     "output_type": "stream",
     "text": [
      "Goarrr\n",
      "woof woof\n"
     ]
    }
   ],
   "source": [
    "class Bear():\n",
    "    def sound(self):\n",
    "        print(\"Goarrr\")\n",
    "class Dog():\n",
    "    def sound(self):\n",
    "        print(\"woof woof\")\n",
    "def makeSound(animal):\n",
    "    animal.sound()\n",
    "barObj = Bear()\n",
    "dogObj = Dog()\n",
    "makeSound(barObj)\n",
    "makeSound(dogObj)"
   ]
  },
  {
   "cell_type": "markdown",
   "metadata": {},
   "source": [
    "<img src=\"gambar/j.PNG\">\n",
    "kelas abstrak yang disebut dokumen. Jika kita mendefinisikan fungsi show () maka baik PdfDocument dan WordDocument harus memiliki fungsi show ()."
   ]
  },
  {
   "cell_type": "code",
   "execution_count": 15,
   "metadata": {},
   "outputs": [
    {
     "name": "stdout",
     "output_type": "stream",
     "text": [
      "Document1: Show pdf contents!\n",
      "Document2: Show pdf contents!\n",
      "Document3: Show word contents!\n"
     ]
    }
   ],
   "source": [
    "class Document:\n",
    "    def __init__(self, name):\n",
    "        self.name = name\n",
    " \n",
    "    def show(self):\n",
    "        raise NotImplementedError(\"Subclass must implement abstract method\")\n",
    " \n",
    "class Pdf(Document):\n",
    "    def show(self):\n",
    "        return 'Show pdf contents!'\n",
    " \n",
    "class Word(Document):\n",
    "    def show(self):\n",
    "        return 'Show word contents!'\n",
    " \n",
    "documents = [Pdf('Document1'),\n",
    "            Pdf('Document2'),\n",
    "            Word('Document3')]\n",
    " \n",
    "for document in documents:\n",
    "    print(document.name + ': ' + document.show())\n"
   ]
  },
  {
   "cell_type": "markdown",
   "metadata": {},
   "source": [
    "<img src=\"gambar/n.PNG\">"
   ]
  },
  {
   "cell_type": "code",
   "execution_count": 16,
   "metadata": {},
   "outputs": [
    {
     "name": "stdout",
     "output_type": "stream",
     "text": [
      "Bananatruck: Truck driving slowly because heavily loaded.\n",
      "Orangetruck: Truck driving slowly because heavily loaded.\n",
      "Z3: Sportscar driving!\n"
     ]
    }
   ],
   "source": [
    "class Car:\n",
    "    def __init__(self, name):\n",
    "        self.name = name\n",
    " \n",
    "    def drive(self):\n",
    "        raise NotImplementedError(\"Subclass must implement abstract method\")\n",
    " \n",
    "    def stop(self):\n",
    "        raise NotImplementedError(\"Subclass must implement abstract method\")\n",
    " \n",
    "class Sportscar(Car):\n",
    "    def drive(self):\n",
    "        return 'Sportscar driving!'\n",
    " \n",
    "    def stop(self):\n",
    "        return 'Sportscar braking!'\n",
    " \n",
    "class Truck(Car):\n",
    "    def drive(self):\n",
    "        return 'Truck driving slowly because heavily loaded.'\n",
    " \n",
    "    def stop(self):\n",
    "        return 'Truck braking!'\n",
    " \n",
    "cars = [Truck('Bananatruck'),\n",
    "Truck('Orangetruck'),\n",
    "Sportscar('Z3')]\n",
    " \n",
    "for car in cars:\n",
    "    print(car.name + ': ' + car.drive())"
   ]
  },
  {
   "cell_type": "markdown",
   "metadata": {},
   "source": [
    "Latihan Polymorphism"
   ]
  },
  {
   "cell_type": "code",
   "execution_count": 18,
   "metadata": {},
   "outputs": [
    {
     "name": "stdout",
     "output_type": "stream",
     "text": [
      "Nama: Kucing\n",
      "Berjalan dengan kaki\n",
      "Meong\n",
      "Nama: Anjing\n",
      "Berjalan dengan kaki\n",
      "guk guk\n",
      "Nama: Ular\n",
      "Berjalan dengan otot perut\n",
      "Desis\n"
     ]
    }
   ],
   "source": [
    "class Binatang:\n",
    "    def __init__(self,nama):\n",
    "        self.nama = nama\n",
    "    def jalan(self):\n",
    "        raise NotImplementedError(\"Subclass must implement abstract method\")\n",
    "    def suara(self):\n",
    "        raise NotImplementedError(\"Subclass must implement abstract method\")\n",
    "    def showInfo(self):\n",
    "        print(\"Nama: {}\".format(self.nama))\n",
    "class Kucing(Binatang):\n",
    "    def jalan(self):\n",
    "        print(\"Berjalan dengan kaki\")\n",
    "    def suara(self):\n",
    "        print(\"Meong\")\n",
    "class Anjing(Binatang):\n",
    "    def jalan(self):\n",
    "        print(\"Berjalan dengan kaki\")\n",
    "    def suara(self):\n",
    "        print(\"guk guk\")\n",
    "class Ular(Binatang):\n",
    "    def jalan(self):\n",
    "        print(\"Berjalan dengan otot perut\")\n",
    "    def suara(self):\n",
    "        print(\"Desis\")\n",
    "kucing1 = Kucing(\"Kucing\")\n",
    "anjing1 = Anjing(\"Anjing\")\n",
    "ular1 = Ular(\"Ular\")\n",
    "\n",
    "for Binatang in (kucing1,anjing1,ular1):\n",
    "    Binatang.showInfo()\n",
    "    Binatang.jalan()\n",
    "    Binatang.suara()"
   ]
  },
  {
   "cell_type": "code",
   "execution_count": 20,
   "metadata": {},
   "outputs": [
    {
     "name": "stdout",
     "output_type": "stream",
     "text": [
      "nama: Rectangel jumlah garis: 4  warna: Biru besar sudut: 90\n",
      "nama: Circle jumlah garis: 1 warna: Ungu\n",
      "nama: Triangel jumlah garis: 3 warna: Abu-Abu besar sudut: 60\n"
     ]
    }
   ],
   "source": [
    "class Shape:\n",
    "    def __init__(self,nama,jumlah_garis,warna):\n",
    "        self.nama = nama\n",
    "        self.jumlah_garis = jumlah_garis\n",
    "        self.warna = warna\n",
    "    def showInfo(self):\n",
    "        print(\"nama: {} jumlah garis: {} warna: {}\".format(self.nama,self.jumlah_garis,self.warna))\n",
    "class Rectengle(Shape):\n",
    "    def __init__(self,nama,jumlah_garis,warna,besar_sudut):\n",
    "        self.besar_sudut = besar_sudut\n",
    "        super().__init__(nama,jumlah_garis,warna)\n",
    "    def showInfo(self):\n",
    "        print(\"nama: {} jumlah garis: {}  warna: {} besar sudut: {}\".format(self.nama,self.jumlah_garis,self.warna,self.besar_sudut))\n",
    "class Circle(Shape):\n",
    "    def __init__(self,nama,jumlah_garis,warna):\n",
    "        super().__init__(nama,jumlah_garis,warna)\n",
    "    def showInfo(self):\n",
    "        print(\"nama: {} jumlah garis: {} warna: {}\".format(self.nama,self.jumlah_garis,self.warna))\n",
    "class Triangel(Shape):\n",
    "    def __init__(self,nama,jumlah_garis,warna,besar_sudut):\n",
    "        self.besar_sudut = besar_sudut\n",
    "        super().__init__(nama,jumlah_garis,warna)\n",
    "    def showInfo(self):\n",
    "        print(\"nama: {} jumlah garis: {} warna: {} besar sudut: {}\".format(self.nama,self.jumlah_garis,self.warna,self.besar_sudut))\n",
    "Rectengle1 = Rectengle(\"Rectangel\",4,\"Biru\",90)\n",
    "Circle1 = Circle(\"Circle\",1,\"Ungu\")\n",
    "Triangel1 = Triangel(\"Triangel\",3,\"Abu-Abu\",60)\n",
    "\n",
    "for Shape in (Rectengle1,Circle1,Triangel1):\n",
    "    Shape.showInfo()\n"
   ]
  },
  {
   "cell_type": "code",
   "execution_count": 4,
   "metadata": {},
   "outputs": [
    {
     "name": "stdout",
     "output_type": "stream",
     "text": [
      "Fery : Kasir\n",
      "Novi : Pelayan\n",
      "Viki : Manajer\n",
      "Rofiqi : Kurir\n",
      "Rizal : Cheff\n",
      "Luki : Koki\n",
      "Fandi : Ob\n",
      "Jefry : Satpam\n",
      "Dika : Pelayan\n"
     ]
    }
   ],
   "source": [
    "class Karyawan:\n",
    "    def __init__(self,nama,deskripsi):\n",
    "        self.nama = nama\n",
    "        self.deskripsi = deskripsi\n",
    "    def showInfo(self):\n",
    "        print(\"nama: {} deskripsi: {}\".format(self.nama,self.deskripsi))        \n",
    "class Koki(Karyawan):\n",
    "    pass\n",
    "class Pizza(Karyawan):\n",
    "    pass\n",
    "Karyawan_pizza = [Pizza(\"Fery\",\"Kasir\"),\n",
    "                  Pizza(\"Novi\",\"Pelayan\"),\n",
    "                  Pizza(\"Viki\",\"Manajer\"),\n",
    "                  Pizza(\"Rofiqi\",\"Kurir\"),\n",
    "                  Pizza(\"Rizal\",\"Cheff\"),\n",
    "                  Pizza(\"Luki\",\"Koki\"),\n",
    "                  Pizza(\"Fandi\",\"Ob\"),\n",
    "                  Pizza(\"Jefry\",\"Satpam\"),\n",
    "                  Pizza(\"Dika\",\"Pelayan\")]\n",
    "for Karyawan in Karyawan_pizza:\n",
    "    print(Karyawan.nama,':',Karyawan.deskripsi)"
   ]
  },
  {
   "cell_type": "markdown",
   "metadata": {},
   "source": [
    "<img src=\"gambar/o.PNG\">"
   ]
  },
  {
   "cell_type": "code",
   "execution_count": 9,
   "metadata": {},
   "outputs": [
    {
     "name": "stdout",
     "output_type": "stream",
     "text": [
      "5\n",
      "11\n",
      "18\n"
     ]
    }
   ],
   "source": [
    "def product(self, *args):\n",
    "    y = 0\n",
    "    for x in args:\n",
    "        y = y + x\n",
    "    print(y)\n",
    "product(4,5)\n",
    "product(4,5,6)\n",
    "product(4,5,6,7)"
   ]
  },
  {
   "cell_type": "markdown",
   "metadata": {},
   "source": [
    "# Method Overloading"
   ]
  },
  {
   "cell_type": "code",
   "execution_count": 6,
   "metadata": {},
   "outputs": [
    {
     "name": "stdout",
     "output_type": "stream",
     "text": [
      "9\n",
      "HiGeeks\n"
     ]
    }
   ],
   "source": [
    "def add(datatype,*args):\n",
    "    if datatype == \"int\":\n",
    "        answer = 0\n",
    "    if datatype == \"str\":\n",
    "        answer = \"\"\n",
    "    for x in args:\n",
    "        answer = answer + x\n",
    "    print(answer)\n",
    "#integer\n",
    "add(\"int\",4,5)\n",
    "#string\n",
    "add(\"str\",\"Hi\",\"Geeks\")"
   ]
  },
  {
   "cell_type": "markdown",
   "metadata": {},
   "source": [
    "<img src=\"gambar/p.PNG\">\n",
    "\n",
    "1. tentukan metode dengan berbagai cara untuk menyebutnya.\n",
    "2. Diberikan metode atau fungsi tunggal, kita dapat menentukan jumlah parameter sendiri. Bergantung pada definisi fungsi, dapat dipanggil dengan parameter nol, satu, dua atau lebih."
   ]
  },
  {
   "cell_type": "code",
   "execution_count": 6,
   "metadata": {},
   "outputs": [
    {
     "name": "stdout",
     "output_type": "stream",
     "text": [
      "Hello \n",
      "Hello Guido\n"
     ]
    }
   ],
   "source": [
    "class Human:\n",
    "    def sayHello(self, name=None):\n",
    "        if name is not None:\n",
    "            print('Hello ' + name)\n",
    "        else:\n",
    "            print('Hello ')\n",
    " \n",
    "# Create instance\n",
    "obj = Human()\n",
    " \n",
    "# Call the method\n",
    "obj.sayHello()\n",
    " \n",
    "# Call the method with a parameter\n",
    "obj.sayHello('Guido')"
   ]
  },
  {
   "cell_type": "markdown",
   "metadata": {},
   "source": [
    "Objek dibuat berdasarkan kelas, dan kami memanggil metode menggunakan nol dan satu parameter. Untuk mengklarifikasi metode overloading, sekarang kita dapat memanggil metode sayHello () dalam dua cara: obj.sayHello () obj.sayHello ('Guido')"
   ]
  },
  {
   "cell_type": "markdown",
   "metadata": {},
   "source": [
    "# Method Overriding"
   ]
  },
  {
   "cell_type": "markdown",
   "metadata": {},
   "source": [
    " <img src=\"gambar/q.PNG\">"
   ]
  },
  {
   "cell_type": "code",
   "execution_count": 12,
   "metadata": {},
   "outputs": [
    {
     "name": "stdout",
     "output_type": "stream",
     "text": [
      "410\n"
     ]
    }
   ],
   "source": [
    "print(10 + 400)\n",
    "#print(\"ten\" - \"sor\")"
   ]
  },
  {
   "cell_type": "markdown",
   "metadata": {},
   "source": [
    "Operator Overloading memungkinkan Anda mendefinisikan kembali arti operator + operator -> untuk menambahkan dua objek bilangan, serta dua objek string. Karena + operator kelebihan beban oleh kelas int dan str.\n",
    "\n",
    "Operator Overloading dicapai dengan mendefinisikan metode khusus dalam definisi kelas"
   ]
  },
  {
   "cell_type": "markdown",
   "metadata": {},
   "source": [
    " <img src=\"gambar/r.PNG\">\n",
    " \n",
    " 1. Operator Overloading dicapai dengan mendefinisikan metode khusus dalam definisi \n",
    " 2. kelasx + y"
   ]
  },
  {
   "cell_type": "code",
   "execution_count": null,
   "metadata": {},
   "outputs": [],
   "source": [
    "x.__add__(y)"
   ]
  },
  {
   "cell_type": "markdown",
   "metadata": {},
   "source": [
    "garis ganda menggarisbawahi di awal dan di akhir."
   ]
  },
  {
   "cell_type": "markdown",
   "metadata": {},
   "source": [
    " <img src=\"gambar/s.PNG\">\n",
    " <img src=\"gambar/t.PNG\">\n",
    " <img src=\"gambar/u.PNG\">\n",
    " <img src=\"gambar/v.PNG\">"
   ]
  },
  {
   "cell_type": "code",
   "execution_count": 20,
   "metadata": {},
   "outputs": [
    {
     "name": "stdout",
     "output_type": "stream",
     "text": [
      "point object is at: (3,1)\n",
      "point object is at: (1,5)\n"
     ]
    }
   ],
   "source": [
    "class Point:\n",
    "    def __init__(self,x=0,y=0):\n",
    "        self.x = x\n",
    "        self.y = y\n",
    "    #def__str__(self):\n",
    "    #return \"({0},({1})\".format(self.x,self.y)\n",
    "    def __str__(self):\n",
    "        return \"point object is at: (\"+str(self.x)+\",\"+str(self.y)+\")\"\n",
    "       \n",
    "    def __sub__(self,other):\n",
    "        x = self.x - other.x\n",
    "        y = self.y - other.y\n",
    "        return Point(x,y)\n",
    "    def __add__(self,other):\n",
    "        x = self.x + other.x\n",
    "        y = self.y + other.y\n",
    "        return Point(x,y)\n",
    "p1 = Point(2,3)\n",
    "p2 = Point(-1,2)\n",
    "print(p1-p2)#//p2.__sub__(p2)\n",
    "print(p1+p2)"
   ]
  },
  {
   "cell_type": "code",
   "execution_count": 8,
   "metadata": {},
   "outputs": [
    {
     "name": "stdout",
     "output_type": "stream",
     "text": [
      "2/4\n",
      "6/4\n",
      "2/4\n"
     ]
    }
   ],
   "source": [
    "class Fraction:\n",
    "    def __init__(self,top,bottom):\n",
    "        self.num = top\n",
    "        self.den = bottom\n",
    "    #def show(self):\n",
    "        #print(self.num,\"/\",self.den)\n",
    "    def __str__(self):\n",
    "        return str(self.num)+\"/\"+str(self.den)\n",
    "    def __add__(self,otherfraction):\n",
    "        newnum = self.num * otherfraction.den + self.den * otherfraction.num\n",
    "        newden = self.den * otherfraction.num\n",
    "        return Fraction(newnum,newden)\n",
    "    def __truediv__(self,otherfraction):\n",
    "        newnum = self.num * otherfraction.den\n",
    "        newden = self.den * otherfraction.num\n",
    "        return Fraction(newnum,newden)\n",
    "f = Fraction(2,4)\n",
    "#show(f)\n",
    "print(f)\n",
    "\n",
    "f1 = Fraction(1,4)\n",
    "f2 = Fraction(1,2)\n",
    "print(f1+f2)\n",
    "print(f1/f2)\n"
   ]
  },
  {
   "cell_type": "markdown",
   "metadata": {},
   "source": [
    "Latihan Operator & Overloading"
   ]
  },
  {
   "cell_type": "code",
   "execution_count": 18,
   "metadata": {},
   "outputs": [
    {
     "name": "stdout",
     "output_type": "stream",
     "text": [
      "hasil penjumlahan adalah:  (27, 11)\n",
      "hasil pengurangan adalah:  (13, 5)\n"
     ]
    }
   ],
   "source": [
    "class Bilangan:\n",
    "    def __init__(self,bilangan1,bilangan2):\n",
    "        self.bilangan1 = bilangan1\n",
    "        self.bilangan2 = bilangan2\n",
    "    def showInfo(self):\n",
    "        print(\"bilangan1: {} bilangan2: {} \".format(self.bilangan1,self.bilangan2))\n",
    "    def __add__(self,other):\n",
    "        return (self.bilangan1 + other.bilangan1, self.bilangan2 + other.bilangan2)\n",
    "    def __sub__(self,other):\n",
    "        return (self.bilangan1 - other.bilangan1, self.bilangan2 - other.bilangan2)\n",
    "    \n",
    "bilangan1 = Bilangan(20,8)\n",
    "bilangan2 = Bilangan(7,3)\n",
    "print(\"hasil penjumlahan adalah: \",bilangan1+bilangan2)\n",
    "print(\"hasil pengurangan adalah: \",bilangan1-bilangan2)"
   ]
  },
  {
   "cell_type": "markdown",
   "metadata": {},
   "source": [
    "<img src=\"gambar/w.PNG\">\n",
    "Ilustrasi\n",
    "<img src=\"gambar/x.PNG\">\n",
    "<img src=\"gambar/c.PNG\">\n",
    "<img src=\"gambar/y.PNG\">"
   ]
  },
  {
   "cell_type": "markdown",
   "metadata": {},
   "source": [
    "# Private Attribute"
   ]
  },
  {
   "cell_type": "code",
   "execution_count": 12,
   "metadata": {},
   "outputs": [
    {
     "name": "stdout",
     "output_type": "stream",
     "text": [
      "22\n",
      "23\n",
      "23\n"
     ]
    }
   ],
   "source": [
    "class Robot(object):\n",
    "    def __init__(self):\n",
    "        self.__version = 22\n",
    "    def getVersion(self):\n",
    "        print(self.__version)\n",
    "    def setVersion(self,version):\n",
    "        self.__version = version\n",
    "obj = Robot()\n",
    "obj.getVersion()\n",
    "obj.setVersion(23)\n",
    "obj.getVersion()\n",
    "#print(obj.__version)#jika tanpa komentar akan eror\n",
    "print(obj._Robot__version) #harus masukkan nama class"
   ]
  },
  {
   "cell_type": "markdown",
   "metadata": {},
   "source": [
    "Satu garis bawah: Variabel pribadi, tidak boleh diakses secara langsung. Tetapi tidak ada yang menghentikan Anda dari melakukan itu (kecuali konvensi). Garis bawah ganda: Variabel pribadi, lebih sulit diakses tetapi masih memungkinkan."
   ]
  },
  {
   "cell_type": "code",
   "execution_count": 13,
   "metadata": {},
   "outputs": [
    {
     "name": "stdout",
     "output_type": "stream",
     "text": [
      "this is a public method\n",
      "this is a public method\n",
      "this is a another private method\n"
     ]
    }
   ],
   "source": [
    "class A(object):\n",
    "    #public method\n",
    "    def myPublicMethod(self):\n",
    "        return \"this is a public method\"\n",
    "    #private method with singel underscore\n",
    "    def _myPrivateMethod(self):\n",
    "        return \"this is a public method\"\n",
    "    #private method with double underscore\n",
    "    def __myAnotherPrivateMethod(self):\n",
    "        return \"this is a another private method\"\n",
    "#nama objek\n",
    "obj1 = A()\n",
    "#we can access the public method wich is cool\n",
    "print(obj1.myPublicMethod())\n",
    "#note that we can also access the private method from outside\n",
    "print(obj1._myPrivateMethod())\n",
    "#howefer, you can still call the double underscore method\n",
    "#by oppending the _class name before methode name\n",
    "print(obj1._A__myAnotherPrivateMethod())"
   ]
  },
  {
   "cell_type": "markdown",
   "metadata": {},
   "source": [
    "# Private Method"
   ]
  },
  {
   "cell_type": "markdown",
   "metadata": {},
   "source": [
    "<img src=\"gambar/z.PNG\">"
   ]
  },
  {
   "cell_type": "code",
   "execution_count": 17,
   "metadata": {},
   "outputs": [
    {
     "name": "stdout",
     "output_type": "stream",
     "text": [
      "updating software\n",
      "driving\n"
     ]
    }
   ],
   "source": [
    "class Car:\n",
    "    def __init__(self):\n",
    "        self.__updateSoftware()\n",
    " \n",
    "    def drive(self):\n",
    "        print ('driving')\n",
    " \n",
    "    def __updateSoftware(self):\n",
    "        print ('updating software')\n",
    " \n",
    "redcar = Car()\n",
    "redcar.drive()\n",
    "#redcar.__updateSoftware()  not accesible from object."
   ]
  },
  {
   "cell_type": "markdown",
   "metadata": {},
   "source": [
    "private methods __updateSoftware(). \n",
    "\n",
    "Fungsi ini tidak dapat dipanggil pada objek secara langsung, hanya dari dalam kelas."
   ]
  },
  {
   "cell_type": "code",
   "execution_count": null,
   "metadata": {},
   "outputs": [],
   "source": [
    "redcar._Car__updateSoftware()"
   ]
  },
  {
   "cell_type": "markdown",
   "metadata": {},
   "source": [
    "updating software"
   ]
  },
  {
   "cell_type": "markdown",
   "metadata": {},
   "source": [
    "Variabel pribadi hanya dapat diubah dalam metode kelas dan tidak di luar kelas.\n",
    "<img src=\"gambar/b.PNG\">"
   ]
  },
  {
   "cell_type": "code",
   "execution_count": 16,
   "metadata": {},
   "outputs": [
    {
     "name": "stdout",
     "output_type": "stream",
     "text": [
      "driving. maxspeed 200\n",
      "driving. maxspeed 200\n",
      "driving. maxspeed 10\n",
      "driving. maxspeed 15\n"
     ]
    }
   ],
   "source": [
    "class Car:\n",
    " \n",
    "    __maxspeed = 0\n",
    "    __name = \"\"\n",
    "     \n",
    "    def __init__(self):\n",
    "        self.__maxspeed = 200\n",
    "        self.__name = (\"Supercar\")\n",
    " \n",
    "    def drive(self):\n",
    "        print ('driving. maxspeed ' + str(self.__maxspeed))\n",
    "    \n",
    "    def setMaxSpeed(self,speed):\n",
    "        self.__maxspeed = speed\n",
    " \n",
    "redcar = Car()\n",
    "redcar.drive()\n",
    "redcar.__maxspeed = 10  # will not change variable because its private\n",
    "redcar.drive()\n",
    "redcar._Car__maxspeed = 10 #harus menggunaka nama _class sebelum nama method\n",
    "redcar.drive()\n",
    "#atau bisa menggunakan method\n",
    "redcar.setMaxSpeed(15)\n",
    "redcar.drive()"
   ]
  },
  {
   "cell_type": "markdown",
   "metadata": {},
   "source": [
    "<img src=\"gambar/e.PNG\">\n",
    "\n",
    "1. kita dapat membatasi akses ke metode dan variabel. Ini mencegah data dari modifikasi langsung yang disebut enkapsulasi.\n",
    "2. Konsep ini agak sulit dijelaskan dengan contoh kita. Kaki kita diikat untuk membantu kita berjalan. Tangan kami, bantu kami memegang barang-barang. Pengikatan sifat-sifat ini ke fungsi disebut Enkapsulasi.\n",
    "3. Ini menyembunyikan detail implementasi [tidak diperlukan untuk mengetahui] ini disebut enkapsulasi."
   ]
  },
  {
   "cell_type": "markdown",
   "metadata": {},
   "source": [
    "Latihan Encapsulation"
   ]
  },
  {
   "cell_type": "code",
   "execution_count": 19,
   "metadata": {},
   "outputs": [
    {
     "name": "stdout",
     "output_type": "stream",
     "text": [
      "nama: Rectangle\n",
      "panjang: 5 lebar: 75\n",
      "nama: Circle\n",
      "jari-jari: 21\n",
      "nama: Triangel\n",
      "panjang: 10 sisi: 15\n"
     ]
    }
   ],
   "source": [
    "class Shape(object):\n",
    "    __nama = \"\"\n",
    "    def getNama(self):\n",
    "        print(\"nama: {}\".format(self.__nama))\n",
    "    def setNama(self,nama):\n",
    "         self.__nama = nama\n",
    "class Rectengle(Shape):\n",
    "    __panjang = 0\n",
    "    __lebar = 0\n",
    "    def getPanjangLebar(self):\n",
    "        print(\"panjang: {} lebar: {}\".format(self.__panjang,self.__lebar))\n",
    "    def setPanjangLebar(self,panjang,lebar):\n",
    "        self.__panjang = panjang\n",
    "        self.__lebar = lebar\n",
    "class Circle(Shape):\n",
    "    __jari_jari = 0\n",
    "    def getJari_jari(self):\n",
    "        print(\"jari-jari: {}\".format(self.__jari_jari))\n",
    "    def setJari_jari(self,jari_jari):\n",
    "        self.__jari_jari = jari_jari\n",
    "class Triangel(Shape):\n",
    "    __panjang = 0\n",
    "    __sisi = 0\n",
    "    def getPanjangSisi(self):\n",
    "        print(\"panjang: {} sisi: {}\".format(self.__panjang,self.__sisi))\n",
    "    def setPanjangSisi(self,panjang,sisi):\n",
    "        self.__panjang = panjang\n",
    "        self.__sisi = sisi \n",
    "R1 = Rectengle()\n",
    "R1.setNama(\"Rectangle\")\n",
    "R1.setPanjangLebar(5,75)\n",
    "R1.getNama()\n",
    "R1.getPanjangLebar()\n",
    "\n",
    "C1 = Circle()\n",
    "C1.setNama(\"Circle\")\n",
    "C1.setJari_jari(21)\n",
    "C1.getNama()\n",
    "C1.getJari_jari()\n",
    "\n",
    "T1 = Triangel()\n",
    "T1.setNama(\"Triangel\")\n",
    "T1.setPanjangSisi(10,15)\n",
    "T1.getNama()\n",
    "T1.getPanjangSisi()\n"
   ]
  },
  {
   "cell_type": "code",
   "execution_count": null,
   "metadata": {},
   "outputs": [],
   "source": []
  }
 ],
 "metadata": {
  "kernelspec": {
   "display_name": "Python 3",
   "language": "python",
   "name": "python3"
  },
  "language_info": {
   "codemirror_mode": {
    "name": "ipython",
    "version": 3
   },
   "file_extension": ".py",
   "mimetype": "text/x-python",
   "name": "python",
   "nbconvert_exporter": "python",
   "pygments_lexer": "ipython3",
   "version": "3.7.1"
  }
 },
 "nbformat": 4,
 "nbformat_minor": 2
}
